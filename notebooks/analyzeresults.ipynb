{
 "cells": [
  {
   "cell_type": "code",
   "execution_count": null,
   "metadata": {},
   "outputs": [],
   "source": [
    "import glob\n",
    "import pandas as pd\n",
    "import os\n",
    "import json\n",
    "import pickle\n",
    "import numpy as np\n",
    "import matplotlib.pyplot as plt\n",
    "import warnings\n",
    "warnings.filterwarnings('ignore')\n",
    "\n",
    "subdirs = os.path.join('../results',  '*')\n",
    "\n",
    "def read_hyperparams(subdir, fn='hyperparameters.pkl'):\n",
    "    try:\n",
    "        with open(os.path.join(subdir, fn), 'rb') as f:\n",
    "            res = pickle.load(f)\n",
    "        return res\n",
    "    except FileNotFoundError:\n",
    "        print(\"No hyperparams in {}\".format(subdir))\n",
    "        return {}\n",
    "    \n",
    "def read_result(subdir, fn='results.pkl', empty_dirs=[]):\n",
    "    try:\n",
    "        with open(os.path.join(subdir, fn), 'rb') as f:\n",
    "            res = pickle.load(f)\n",
    "        return res\n",
    "    except FileNotFoundError:\n",
    "        empty_dirs.append(read_hyperparams(subdir))\n",
    "        return []\n",
    "\n",
    "rows = []\n",
    "empty_dirs = []\n",
    "ok_dirs = []\n",
    "for subdir in glob.glob(subdirs):\n",
    "    hyperparams = read_hyperparams(subdir)\n",
    "    res = read_result(subdir, empty_dirs=empty_dirs)\n",
    "\n",
    "    if len(hyperparams) > 0 and len(res) > 0:\n",
    "        if not hyperparams['gp']:\n",
    "            ok_dirs.append({k: v for k, v in dict(hyperparams).items() if k in ['function', 'seed', 'noise',\n",
    "                                                                               'retrain', 'epochs', 'batch_size',\n",
    "                                                                               'iid_ratio']})\n",
    "        hyperparams['results'] = res\n",
    "        rows.append(hyperparams)\n",
    "\n",
    "df = pd.DataFrame(rows)\n"
   ]
  },
  {
   "cell_type": "code",
   "execution_count": null,
   "metadata": {},
   "outputs": [],
   "source": [
    "to_show = ['function', 'gp', 'retrain', 'epochs', 'batch_size', 'iid_ratio', 'noise', 'results']\n",
    "df = df[to_show]\n",
    "\n",
    "# When results are incomplete, append NANs so that all results have the same length\n",
    "MAX_N_STEPS = 101\n",
    "df['results'] = df['results'].apply(lambda lis: lis if len(lis) == MAX_N_STEPS else lis + [np.nan] * (MAX_N_STEPS - len(lis)))\n",
    "print('Mean value for the length of the results : ', df['results'].apply(len).mean())\n",
    "print('How many results we have in total ? ', len(df))"
   ]
  },
  {
   "cell_type": "code",
   "execution_count": null,
   "metadata": {},
   "outputs": [],
   "source": [
    "def plot_one(fct, noise, retrain=False, batch_size=64, iid_ratio=10, epochs=50, ax=None):\n",
    "    if ax is None:\n",
    "        ax = plt.gca()\n",
    "    df1 = df[df['function'] == fct]\n",
    "    df1 = df1[df1['noise'] == noise]\n",
    "    out = df1.groupby(['gp', 'retrain', 'iid_ratio',\n",
    "                 'batch_size', 'epochs'])['results'].apply(lambda x: \n",
    "                                                           (np.nanmean(x.tolist(), axis=0), np.std(x.tolist(), axis=0)))\n",
    "\n",
    "    def key_to_str(key):\n",
    "        st = \"\"\n",
    "        if key[0]:\n",
    "            st += 'GP'\n",
    "        else:\n",
    "            st += 'EP'\n",
    "            if key[1]:\n",
    "                st += '_retrain'\n",
    "            st += str(key[2:])\n",
    "        return st\n",
    "\n",
    "    # plt.figure(figsize=(20,10))\n",
    "    for key, value in zip(out.keys(), out.values):\n",
    "        if not key[0]:\n",
    "            if retrain and not key[1] or not retrain and key[1]:\n",
    "                continue\n",
    "            if key[2] != iid_ratio:\n",
    "                continue\n",
    "            if key[3] != batch_size:\n",
    "                continue\n",
    "            if key[4] != epochs:\n",
    "                continue\n",
    "        #if not key[1] and not key[0]:\n",
    "        #    continue\n",
    "        ax.errorbar(range(MAX_N_STEPS), value[0], yerr=.1 * value[1],\n",
    "                     linewidth=3 if key[0] else 2 if key[1] else 1,\n",
    "                     linestyle='dotted' if key[2] < 1 else 'solid', \n",
    "                     label=key_to_str(key))\n",
    "    ax.legend()\n",
    "    ax.set_title('{} - {}'.format(fct, noise))"
   ]
  },
  {
   "cell_type": "code",
   "execution_count": null,
   "metadata": {},
   "outputs": [],
   "source": [
    "f, axes = plt.subplots(4, 2, figsize=(20, 14))\n",
    "plot_one('sinusoid', 0.0, ax=axes[0][0])\n",
    "plot_one('sinusoid', 0.1, ax=axes[0][1])\n",
    "plot_one('multi_optima', 0.0, ax=axes[1][0])\n",
    "plot_one('multi_optima', 0.1, ax=axes[1][1])\n",
    "plot_one('levi_n13', 0.0, ax=axes[2][0])\n",
    "plot_one('levi_n13', 0.1, ax=axes[2][1])\n",
    "plot_one('booth', 0.0, ax=axes[3][0])\n",
    "plot_one('booth', 0.1, ax=axes[3][1])"
   ]
  },
  {
   "cell_type": "code",
   "execution_count": null,
   "metadata": {},
   "outputs": [],
   "source": [
    "def plot_many(fct, noise, lim1=None, lim2=None): \n",
    "    #lim 1 and lim 2 filters very bad runs !\n",
    "    df1 = df[df['function'] == fct]\n",
    "    df1 = df1[df1['noise'] == noise]\n",
    "    out = df1.groupby(['gp', 'retrain', 'iid_ratio',\n",
    "                 'batch_size', 'epochs'])['results'].apply(lambda x: \n",
    "                                                           (np.nanmean(x.tolist(), axis=0), np.std(x.tolist(), axis=0)))\n",
    "\n",
    "    def key_to_str(key):\n",
    "        st = \"\"\n",
    "        if key[0]:\n",
    "            st += 'GP'\n",
    "        else:\n",
    "            st += 'EP'\n",
    "            if key[1]:\n",
    "                st += '_retrain'\n",
    "            st += str(key[2:])\n",
    "        return st\n",
    "\n",
    "    plt.figure(figsize=(20,10))\n",
    "    for key, value in zip(out.keys(), out.values):\n",
    "        if lim1 is not None and lim2 is not None:\n",
    "            if (\n",
    "                not key[1] and\n",
    "                (value[0][40] < lim1 or np.isnan(value[0][-1]) or value[0][-1] < lim2)\n",
    "               ):\n",
    "                continue\n",
    "                pass\n",
    "        #if not key[1] and not key[0]:\n",
    "        #    continue\n",
    "        plt.errorbar(range(101), value[0], yerr=.1 * value[1],\n",
    "                     linewidth=3 if key[0] else 2 if key[1] else 1,\n",
    "                     linestyle='dotted' if key[2] < 1 else 'solid', \n",
    "                     label=key_to_str(key))\n",
    "    plt.legend()\n",
    "    plt.title('{} - {}'.format(fct, noise))\n",
    "    plt.show()\n",
    "    \n"
   ]
  },
  {
   "cell_type": "code",
   "execution_count": null,
   "metadata": {},
   "outputs": [],
   "source": [
    "plot_many('multi_optima', 0.1, 0.85, 1.05)"
   ]
  },
  {
   "cell_type": "code",
   "execution_count": null,
   "metadata": {},
   "outputs": [],
   "source": [
    "plot_many('multi_optima', 0.0, 0.85, 0.93)"
   ]
  },
  {
   "cell_type": "code",
   "execution_count": null,
   "metadata": {},
   "outputs": [],
   "source": [
    "plot_many('levi_n13', 0.0, -0.2, -0.1)"
   ]
  },
  {
   "cell_type": "code",
   "execution_count": null,
   "metadata": {},
   "outputs": [],
   "source": [
    "plot_many('levi_n13', 0.1, -0.2, 0.)"
   ]
  }
 ],
 "metadata": {
  "kernelspec": {
   "display_name": "Python 3",
   "language": "python",
   "name": "python3"
  },
  "language_info": {
   "codemirror_mode": {
    "name": "ipython",
    "version": 3
   },
   "file_extension": ".py",
   "mimetype": "text/x-python",
   "name": "python",
   "nbconvert_exporter": "python",
   "pygments_lexer": "ipython3",
   "version": "3.8.5"
  }
 },
 "nbformat": 4,
 "nbformat_minor": 4
}
