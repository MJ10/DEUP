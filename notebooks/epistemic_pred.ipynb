{
 "cells": [
  {
   "cell_type": "code",
   "execution_count": 2,
   "metadata": {},
   "outputs": [],
   "source": [
    "import torch\n",
    "from botorch.models import SingleTaskGP\n",
    "from gpytorch.mlls import ExactMarginalLogLikelihood\n",
    "from botorch.fit import fit_gpytorch_model\n",
    "from models.epistemic_predictor import EpistemicPredictor\n",
    "from botorch.acquisition import ExpectedImprovement\n",
    "from botorch.optim import optimize_acqf\n",
    "\n",
    "import matplotlib.pyplot as plt\n",
    "device = torch.device(\"cuda\" if torch.cuda.is_available() else \"cpu\")\n",
    "dtype = torch.double\n",
    "\n",
    "import warnings\n",
    "warnings.filterwarnings('ignore')"
   ]
  },
  {
   "cell_type": "code",
   "execution_count": 3,
   "metadata": {},
   "outputs": [
    {
     "data": {
      "image/png": "[encoded data removed]",
      "text/plain": [
       "<Figure size 432x288 with 1 Axes>"
      ]
     },
     "metadata": {
      "needs_background": "light"
     },
     "output_type": "display_data"
    }
   ],
   "source": [
    "noise = 0.1\n",
    "\n",
    "def f(X, noise=noise):\n",
    "    return (-torch.sin(5*X**2) - X**4 + 0.3 *X** 3 + 2 * X **2 + 4.1*X + \n",
    "            noise * torch.randn_like(X))\n",
    "\n",
    "def repeat(f, bounds):\n",
    "    new_bounds = (bounds[0], 2 * bounds[1] - bounds[0])\n",
    "    def g(X, noise=noise):\n",
    "        return (X < bounds[1]) * f(X, noise) + (X >= bounds[1]) * (f(X - bounds[1] + bounds[0], noise) + \n",
    "                                                                  f(torch.FloatTensor([bounds[1]]), 0) -\n",
    "                                                                   f(torch.FloatTensor([bounds[0]]), 0))\n",
    "    return g, new_bounds\n",
    "    \n",
    "\n",
    "bounds = (-1, 2)\n",
    "# f, bounds = repeat(f, bounds)\n",
    "# f, bounds = repeat(f, bounds)\n",
    "\n",
    "X_init = (bounds[1] - bounds[0]) * torch.rand(6, 1) + bounds[0]\n",
    "Y_init = f(X_init)\n",
    "\n",
    "X = torch.arange(bounds[0], bounds[1], 0.01).reshape(-1, 1)\n",
    "Y = f(X, 0)\n",
    "\n",
    "# Plot optimization objective with noise level \n",
    "plt.plot(X, Y, 'y--', lw=2, label='Noise-free objective')\n",
    "plt.plot(X, f(X), 'bx', lw=1, alpha=0.1, label='Noisy samples')\n",
    "plt.plot(X_init, Y_init, 'kx', mew=3, label='Initial samples')\n",
    "plt.legend();"
   ]
  },
  {
   "cell_type": "code",
   "execution_count": 15,
   "metadata": {},
   "outputs": [],
   "source": [
    "def optimize(model_name, plot=False, n_steps=5, **kwargs):\n",
    "    train_X = X_init\n",
    "    train_Y = Y_init\n",
    "    ood_X =  (bounds[1] - bounds[0]) * torch.rand(7, 1) + bounds[0]\n",
    "    additional_data = {'ood_X': ood_X,\n",
    "                      'ood_Y': f(ood_X),\n",
    "                      'train_Y_2': f(train_X)}\n",
    "    state_dict = None\n",
    "    max_value_per_step = [train_Y.max().item()]\n",
    "    for _ in range(n_steps):\n",
    "        if model_name == EpistemicPredictor:\n",
    "            model = model_name(train_X, train_Y, additional_data, **kwargs)\n",
    "            if state_dict is not None:\n",
    "                model.load_state_dict(state_dict)\n",
    "            for _ in range(5):\n",
    "                model.fit()\n",
    "        elif model_name == SingleTaskGP:\n",
    "            model = model_name(train_X, train_Y)\n",
    "            mll = ExactMarginalLogLikelihood(model.likelihood, model)\n",
    "            if state_dict is not None:\n",
    "                model.load_state_dict(state_dict)\n",
    "            fit_gpytorch_model(mll)\n",
    "        else:\n",
    "            raise Exception('Not sure this would work !')\n",
    "\n",
    "\n",
    "        EI = ExpectedImprovement(model, train_Y.max().item())\n",
    "        eis = EI(X.unsqueeze(1)).detach()\n",
    "        max_ei, argmax_ei = torch.max(eis, 0)\n",
    "        xmax = X[argmax_ei].item()\n",
    "        max_ei = max_ei.item()\n",
    "        \n",
    "        bounds_t = torch.FloatTensor([[bounds[0]], [bounds[1]]])\n",
    "        candidate, acq_value = optimize_acqf(\n",
    "            EI, bounds=bounds_t, q=1, num_restarts=5, raw_samples=50,\n",
    "        )\n",
    "\n",
    "        train_X = torch.cat([train_X, candidate])\n",
    "        train_Y = torch.cat([train_Y, f(candidate)])\n",
    "        additional_data['train_Y_2'] = torch.cat([additional_data['train_Y_2'], f(candidate)])\n",
    "        state_dict = model.state_dict()\n",
    "        \n",
    "        if plot:\n",
    "            fig, (ax1, ax2) = plt.subplots(1, 2, figsize=(15, 4))\n",
    "            # Plot optimization objective with noise level \n",
    "            ax1.plot(X, Y, 'y--', lw=2, label='Noise-free objective')\n",
    "            ax1.plot(X, f(X), 'rx', lw=1, alpha=0.2, label='Noisy samples')\n",
    "            ax1.plot(train_X, train_Y, 'kx', mew=3, label='Initial samples')\n",
    "\n",
    "            ax1.plot(X, model(X).mean.detach().squeeze(), label='mean pred')\n",
    "            ax1.fill_between(X.numpy().ravel(), model(X).mean.detach().numpy().ravel() - model(X).stddev.detach().numpy().ravel(),\n",
    "                            model(X).mean.detach().numpy().ravel() + model(X).stddev.detach().numpy().ravel(), alpha=.4)\n",
    "            \n",
    "            if isinstance(model, EpistemicPredictor):\n",
    "                ax1.plot(X, model.kde.score_samples(X), 'r-', label='density')\n",
    "\n",
    "\n",
    "            ax2.plot(X, eis, 'r-', label='EI')\n",
    "            ax2.plot(X, [max_ei] * len(X), 'b--')\n",
    "            ax2.plot([xmax] * 100, torch.linspace(0, max_ei, 100), 'b--')\n",
    "            ax1.legend()\n",
    "            ax2.legend()\n",
    "            \n",
    "        max_value_per_step.append(train_Y.max().item())\n",
    "        \n",
    "    return max_value_per_step\n",
    "\n",
    "        "
   ]
  },
  {
   "cell_type": "code",
   "execution_count": 23,
   "metadata": {},
   "outputs": [
    {
     "name": "stdout",
     "output_type": "stream",
     "text": [
      "Run 1/5\n",
      "Run 2/5\n",
      "Run 3/5\n",
      "Run 4/5\n",
      "Run 5/5\n"
     ]
    }
   ],
   "source": [
    "import numpy as np\n",
    "n_runs = 5\n",
    "n_steps = 25\n",
    "gp_runs = np.zeros((n_runs, n_steps + 1))\n",
    "ep_runs = np.zeros((n_runs, n_steps + 1))\n",
    "\n",
    "for i in range(n_runs):\n",
    "    print(f\"Run {i+1}/{n_runs}\")\n",
    "    gp_runs[i] = optimize(SingleTaskGP, plot=False, n_steps=n_steps, n_hidden=64)\n",
    "    ep_runs[i] = optimize(EpistemicPredictor, plot=False, n_steps=n_steps, n_hidden=64)"
   ]
  },
  {
   "cell_type": "code",
   "execution_count": 24,
   "metadata": {},
   "outputs": [
    {
     "name": "stdout",
     "output_type": "stream",
     "text": [
      "[6.08317614 6.08317614 6.37509727 6.37509727 6.42547512 6.43193874\n",
      " 6.89122744 7.4666728  7.63400545 7.63992939 7.63992939 7.64046955\n",
      " 7.67692833 7.68032141 7.7202549  7.75056953 7.75418043 7.76604795\n",
      " 7.76604795 7.76604795 7.76604795 7.76604795 7.76604795 7.76604795\n",
      " 7.76604795 7.76604795]\n",
      "[6.08317614 6.08317614 6.20137348 6.40151091 6.45490332 6.47545948\n",
      " 6.52427921 6.52427921 6.52825813 6.52825813 6.52825813 6.55284977\n",
      " 6.55284977 6.63389091 7.09390459 7.25563059 7.26754484 7.26797142\n",
      " 7.27616806 7.31633892 7.31633892 7.31633892 7.31633892 7.31633892\n",
      " 7.31633892 7.31633892]\n"
     ]
    }
   ],
   "source": [
    "print(gp_runs.mean(0))\n",
    "print(ep_runs.mean(0))"
   ]
  },
  {
   "cell_type": "code",
   "execution_count": 25,
   "metadata": {},
   "outputs": [
    {
     "name": "stdout",
     "output_type": "stream",
     "text": [
      "[0.         0.         0.03947064 0.03947064 0.05092713 0.04349547\n",
      " 0.22958202 0.30465426 0.10252015 0.09809891 0.09809891 0.09836473\n",
      " 0.13636815 0.13193628 0.10165325 0.07292853 0.0685315  0.05819843\n",
      " 0.05819843 0.05819843 0.05819843 0.05819843 0.05819843 0.05819843\n",
      " 0.05819843 0.05819843]\n",
      "[0.         0.         0.12596777 0.14226977 0.10836051 0.09176137\n",
      " 0.07848755 0.07848755 0.07429199 0.07429199 0.07429199 0.06628286\n",
      " 0.06628286 0.15524784 0.42024348 0.5447143  0.55026768 0.5504846\n",
      " 0.55489105 0.58270669 0.58270669 0.58270669 0.58270669 0.58270669\n",
      " 0.58270669 0.58270669]\n"
     ]
    }
   ],
   "source": [
    "print(gp_runs.std(0))\n",
    "print(ep_runs.std(0))"
   ]
  },
  {
   "cell_type": "code",
   "execution_count": 27,
   "metadata": {},
   "outputs": [
    {
     "data": {
      "text/plain": [
       "[<matplotlib.lines.Line2D at 0x12eac2fd0>]"
      ]
     },
     "execution_count": 27,
     "metadata": {},
     "output_type": "execute_result"
    },
    {
     "data": {
      "image/png": "[encoded data removed]",
      "text/plain": [
       "<Figure size 432x288 with 1 Axes>"
      ]
     },
     "metadata": {
      "needs_background": "light"
     },
     "output_type": "display_data"
    }
   ],
   "source": [
    "plt.plot(gp_runs.mean(0), label='gp')\n",
    "plt.plot(ep_runs.mean(0), label='ep')"
   ]
  },
  {
   "cell_type": "code",
   "execution_count": null,
   "metadata": {},
   "outputs": [],
   "source": []
  }
 ],
 "metadata": {
  "kernelspec": {
   "display_name": "Python 3",
   "language": "python",
   "name": "python3"
  },
  "language_info": {
   "codemirror_mode": {
    "name": "ipython",
    "version": 3
   },
   "file_extension": ".py",
   "mimetype": "text/x-python",
   "name": "python",
   "nbconvert_exporter": "python",
   "pygments_lexer": "ipython3",
   "version": "3.8.5"
  }
 },
 "nbformat": 4,
 "nbformat_minor": 4
}